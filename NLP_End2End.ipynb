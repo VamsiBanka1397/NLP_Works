{
 "cells": [
  {
   "cell_type": "raw",
   "id": "122e9ee7",
   "metadata": {},
   "source": [
    "Components of Natural Language Processing (NLP):\n",
    "a. Lexical Analysis:\n",
    "b. Syntactic Analysis:\n",
    "c. Semantic Analysis:\n",
    "d. Disclosure Integration:\n",
    "e. Pragmatic Analysis:"
   ]
  },
  {
   "cell_type": "raw",
   "id": "ba704c20",
   "metadata": {},
   "source": [
    "Current challenges in NLP:\n",
    "1.Breaking sentences into tokens.\n",
    "2.Tagging parts of speech (POS).\n",
    "3.Building an appropriate vocabulary.\n",
    "4.Linking the components of a created vocabulary.\n",
    "5.Understanding the context.\n",
    "6.Extracting semantic meaning.\n",
    "7.Named Entity Recognition (NER).\n",
    "8.Transforming unstructured data into structured data.\n",
    "9.Ambiguity in speech."
   ]
  },
  {
   "cell_type": "raw",
   "id": "be6ae26e",
   "metadata": {},
   "source": [
    "NLP Libraries \n",
    "1. NLTK\n",
    "\n",
    "Features:\n",
    "\n",
    "    Tokenization.\n",
    "    Part Of Speech tagging (POS).\n",
    "    Named Entity Recognition (NER).\n",
    "    Classification.\n",
    "    Sentiment analysis.\n",
    "    Packages of chatbots.\n",
    "\n",
    "Use-cases:\n",
    "  \n",
    "    Recommendation systems.\n",
    "    Sentiment analysis.\n",
    "    Building chatbots."
   ]
  },
  {
   "cell_type": "raw",
   "id": "01b22d55",
   "metadata": {},
   "source": [
    "2.Spacy\n",
    "\n",
    "Features:\n",
    "\n",
    "    Tokenization.\n",
    "    Part Of Speech tagging (POS).\n",
    "    Named Entity Recognition (NER).\n",
    "    Classification.\n",
    "    Sentiment analysis.\n",
    "    Dependency parsing.\n",
    "    Word vectors.\n",
    "\n",
    "Use-cases:\n",
    "   \n",
    "    Autocomplete and autocorrect.\n",
    "    Analyzing reviews.\n",
    "    Summarization."
   ]
  },
  {
   "cell_type": "raw",
   "id": "b934979b",
   "metadata": {},
   "source": [
    "3.Genism\n",
    "\n",
    "Features:\n",
    "\n",
    "    Latent semantic analysis.\n",
    "    Non-negative matrix factorization.\n",
    "    TF-IDF.\n",
    "\n",
    "Use-cases:\n",
    "\n",
    "    Converting documents to vectors.\n",
    "    Finding text similarity.\n",
    "    Text summarization."
   ]
  },
  {
   "cell_type": "raw",
   "id": "1428d70c",
   "metadata": {},
   "source": [
    "4.Pattern\n",
    "\n",
    "Features:\n",
    "\n",
    "    Tokenization.\n",
    "    Part of Speech tagging.\n",
    "    Named entity recognition.\n",
    "    Parsing.\n",
    "    Sentiment analysis.\n",
    "\n",
    "Use-cases:\n",
    "\n",
    "    Spelling correction.\n",
    "    Search engine optimization.\n",
    "    Sentiment analysis."
   ]
  },
  {
   "cell_type": "raw",
   "id": "80b3350c",
   "metadata": {},
   "source": [
    "5.TextBlob\n",
    "\n",
    "Features:\n",
    "\n",
    "    Part-of-Speech tagging.\n",
    "    Noun phrase extraction.\n",
    "    Sentiment analysis.\n",
    "    Classification.\n",
    "    Language translation.\n",
    "    Parsing.\n",
    "    Wordnet integration.\n",
    "\n",
    "Use-cases:\n",
    "\n",
    "    Sentiment Analysis.\n",
    "    Spelling Correction.\n",
    "    Translation and Language Detection."
   ]
  },
  {
   "cell_type": "code",
   "execution_count": null,
   "id": "d63e8944",
   "metadata": {},
   "outputs": [],
   "source": []
  },
  {
   "cell_type": "code",
   "execution_count": 2,
   "id": "55c2036c",
   "metadata": {},
   "outputs": [],
   "source": [
    "text_file = open('text1.txt')\n",
    "\n",
    "text = text_file.read()"
   ]
  },
  {
   "cell_type": "code",
   "execution_count": 4,
   "id": "61f0c407",
   "metadata": {},
   "outputs": [
    {
     "name": "stdout",
     "output_type": "stream",
     "text": [
      "<class 'str'>\n",
      "\n",
      "\n",
      "\n",
      "  October 13.  “There she blows,” was sung out from the mast-head.\n",
      "  “Where away?” demanded the captain. “Three points off the lee bow,\n",
      "  sir.” “Raise up your wheel.  Steady!”  “Steady, sir.” “Mast-head\n",
      "  ahoy! Do you see that whale now?” “Ay ay, sir!  A shoal of Sperm\n",
      "  Whales! There she blows!  There she breaches!” “Sing out! sing out\n",
      "  every time!” “Ay Ay, sir!  There she blows! there—there—_thar_ she\n",
      "  blows—bowes—bo-o-os!” “How far off?” “Two miles and a half.” “Thunder\n",
      "  and lightning! so near!  Call all hands.” —_J. Ross Browne’s Etchings\n",
      "  of a Whaling Cruize_.  1846.\n",
      "\n",
      "\n",
      "\n",
      "\n",
      "585\n"
     ]
    }
   ],
   "source": [
    "print(type(text))\n",
    "print(\"\\n\")\n",
    "\n",
    "print(text)\n",
    "print(\"\\n\")\n",
    "print(len(text))"
   ]
  },
  {
   "cell_type": "code",
   "execution_count": 5,
   "id": "476b1b34",
   "metadata": {},
   "outputs": [],
   "source": [
    "import nltk\n",
    "from nltk import sent_tokenize\n",
    "from nltk import word_tokenize"
   ]
  },
  {
   "cell_type": "code",
   "execution_count": 9,
   "id": "ed63b934",
   "metadata": {},
   "outputs": [
    {
     "name": "stderr",
     "output_type": "stream",
     "text": [
      "[nltk_data] Downloading package punkt to /home/vamsi/nltk_data...\n",
      "[nltk_data]   Unzipping tokenizers/punkt.zip.\n"
     ]
    },
    {
     "data": {
      "text/plain": [
       "True"
      ]
     },
     "execution_count": 9,
     "metadata": {},
     "output_type": "execute_result"
    }
   ],
   "source": [
    "nltk.download('punkt')"
   ]
  },
  {
   "cell_type": "code",
   "execution_count": 10,
   "id": "c1ff581b",
   "metadata": {},
   "outputs": [
    {
     "name": "stdout",
     "output_type": "stream",
     "text": [
      "16\n"
     ]
    },
    {
     "data": {
      "text/plain": [
       "['\\n  October 13.',\n",
       " '“There she blows,” was sung out from the mast-head.',\n",
       " '“Where away?” demanded the captain.',\n",
       " '“Three points off the lee bow,\\n  sir.” “Raise up your wheel.',\n",
       " 'Steady!”  “Steady, sir.” “Mast-head\\n  ahoy!',\n",
       " 'Do you see that whale now?” “Ay ay, sir!',\n",
       " 'A shoal of Sperm\\n  Whales!',\n",
       " 'There she blows!',\n",
       " 'There she breaches!” “Sing out!',\n",
       " 'sing out\\n  every time!” “Ay Ay, sir!',\n",
       " 'There she blows!',\n",
       " 'there—there—_thar_ she\\n  blows—bowes—bo-o-os!” “How far off?” “Two miles and a half.” “Thunder\\n  and lightning!',\n",
       " 'so near!',\n",
       " 'Call all hands.” —_J.',\n",
       " 'Ross Browne’s Etchings\\n  of a Whaling Cruize_.',\n",
       " '1846.']"
      ]
     },
     "execution_count": 10,
     "metadata": {},
     "output_type": "execute_result"
    }
   ],
   "source": [
    "sentences = sent_tokenize(text)\n",
    "\n",
    "print(len(sentences))\n",
    "\n",
    "\n",
    "sentences"
   ]
  },
  {
   "cell_type": "code",
   "execution_count": 11,
   "id": "14d9ee45",
   "metadata": {},
   "outputs": [
    {
     "name": "stdout",
     "output_type": "stream",
     "text": [
      "146\n",
      "['October', '13', '.', '“', 'There', 'she', 'blows', ',', '”', 'was', 'sung', 'out', 'from', 'the', 'mast-head', '.', '“', 'Where', 'away', '?', '”', 'demanded', 'the', 'captain', '.', '“', 'Three', 'points', 'off', 'the', 'lee', 'bow', ',', 'sir.', '”', '“', 'Raise', 'up', 'your', 'wheel', '.', 'Steady', '!', '”', '“', 'Steady', ',', 'sir.', '”', '“', 'Mast-head', 'ahoy', '!', 'Do', 'you', 'see', 'that', 'whale', 'now', '?', '”', '“', 'Ay', 'ay', ',', 'sir', '!', 'A', 'shoal', 'of', 'Sperm', 'Whales', '!', 'There', 'she', 'blows', '!', 'There', 'she', 'breaches', '!', '”', '“', 'Sing', 'out', '!', 'sing', 'out', 'every', 'time', '!', '”', '“', 'Ay', 'Ay', ',', 'sir', '!', 'There', 'she', 'blows', '!', 'there—there—_thar_', 'she', 'blows—bowes—bo-o-os', '!', '”', '“', 'How', 'far', 'off', '?', '”', '“', 'Two', 'miles', 'and', 'a', 'half.', '”', '“', 'Thunder', 'and', 'lightning', '!', 'so', 'near', '!', 'Call', 'all', 'hands.', '”', '—_J', '.', 'Ross', 'Browne', '’', 's', 'Etchings', 'of', 'a', 'Whaling', 'Cruize_', '.', '1846', '.']\n"
     ]
    }
   ],
   "source": [
    "words = word_tokenize(text)\n",
    "\n",
    "print(len(words))\n",
    "\n",
    "print(words)"
   ]
  },
  {
   "cell_type": "code",
   "execution_count": 16,
   "id": "724cc05a",
   "metadata": {},
   "outputs": [
    {
     "name": "stdout",
     "output_type": "stream",
     "text": [
      "<FreqDist with 78 samples and 146 outcomes>\n"
     ]
    },
    {
     "data": {
      "text/plain": [
       "[('!', 13),\n",
       " ('“', 12),\n",
       " ('”', 12),\n",
       " ('.', 7),\n",
       " ('she', 5),\n",
       " (',', 5),\n",
       " ('There', 4),\n",
       " ('blows', 3),\n",
       " ('out', 3),\n",
       " ('the', 3),\n",
       " ('?', 3),\n",
       " ('Ay', 3),\n",
       " ('off', 2),\n",
       " ('sir.', 2),\n",
       " ('Steady', 2)]"
      ]
     },
     "execution_count": 16,
     "metadata": {},
     "output_type": "execute_result"
    }
   ],
   "source": [
    "#frequency distribution of words\n",
    "\n",
    "from nltk.probability import FreqDist\n",
    "\n",
    "fdist = FreqDist(words)\n",
    "\n",
    "print(fdist)\n",
    "\n",
    "fdist.most_common(15)"
   ]
  },
  {
   "cell_type": "code",
   "execution_count": 18,
   "id": "2e689a01",
   "metadata": {},
   "outputs": [
    {
     "data": {
      "image/png": "[encoded data removed]",
      "text/plain": [
       "<Figure size 432x288 with 1 Axes>"
      ]
     },
     "metadata": {
      "needs_background": "light"
     },
     "output_type": "display_data"
    },
    {
     "data": {
      "text/plain": [
       "<AxesSubplot:xlabel='Samples', ylabel='Counts'>"
      ]
     },
     "execution_count": 18,
     "metadata": {},
     "output_type": "execute_result"
    }
   ],
   "source": [
    "#plot frequency graph\n",
    "\n",
    "import matplotlib.pyplot as plt\n",
    "\n",
    "fdist.plot(10)"
   ]
  },
  {
   "cell_type": "code",
   "execution_count": 19,
   "id": "18239094",
   "metadata": {},
   "outputs": [
    {
     "name": "stdout",
     "output_type": "stream",
     "text": [
      "['october', 'there', 'she', 'blows', 'was', 'sung', 'out', 'from', 'the', 'where', 'away', 'demanded', 'the', 'captain', 'three', 'points', 'off', 'the', 'lee', 'bow', 'raise', 'up', 'your', 'wheel', 'steady', 'steady', 'ahoy', 'do', 'you', 'see', 'that', 'whale', 'now', 'ay', 'ay', 'sir', 'a', 'shoal', 'of', 'sperm', 'whales', 'there', 'she', 'blows', 'there', 'she', 'breaches', 'sing', 'out', 'sing', 'out', 'every', 'time', 'ay', 'ay', 'sir', 'there', 'she', 'blows', 'she', 'how', 'far', 'off', 'two', 'miles', 'and', 'a', 'thunder', 'and', 'lightning', 'so', 'near', 'call', 'all', 'ross', 'browne', 's', 'etchings', 'of', 'a', 'whaling']\n",
      "\n",
      "\n",
      "81\n"
     ]
    }
   ],
   "source": [
    "#remove punctuation \n",
    "\n",
    "word_no_punc = []\n",
    "\n",
    "for w in words:\n",
    "    if w.isalpha():\n",
    "        word_no_punc.append(w.lower())\n",
    "        \n",
    "#print the words without punc\n",
    "\n",
    "print(word_no_punc)\n",
    "\n",
    "print(\"\\n\")\n",
    "\n",
    "print(len(word_no_punc))"
   ]
  },
  {
   "cell_type": "code",
   "execution_count": 20,
   "id": "350dd405",
   "metadata": {},
   "outputs": [
    {
     "data": {
      "text/plain": [
       "[('she', 5),\n",
       " ('there', 4),\n",
       " ('ay', 4),\n",
       " ('blows', 3),\n",
       " ('out', 3),\n",
       " ('the', 3),\n",
       " ('a', 3),\n",
       " ('off', 2),\n",
       " ('steady', 2),\n",
       " ('sir', 2)]"
      ]
     },
     "execution_count": 20,
     "metadata": {},
     "output_type": "execute_result"
    }
   ],
   "source": [
    "#ploting graph without punctuation\n",
    "\n",
    "fdist1 = FreqDist(word_no_punc)\n",
    "\n",
    "fdist1.most_common(10)"
   ]
  },
  {
   "cell_type": "code",
   "execution_count": 23,
   "id": "6aec6565",
   "metadata": {},
   "outputs": [
    {
     "name": "stderr",
     "output_type": "stream",
     "text": [
      "[nltk_data] Downloading package stopwords to /home/vamsi/nltk_data...\n",
      "[nltk_data]   Unzipping corpora/stopwords.zip.\n"
     ]
    },
    {
     "data": {
      "text/plain": [
       "True"
      ]
     },
     "execution_count": 23,
     "metadata": {},
     "output_type": "execute_result"
    }
   ],
   "source": [
    "nltk.download('stopwords')"
   ]
  },
  {
   "cell_type": "code",
   "execution_count": 21,
   "id": "c027458a",
   "metadata": {},
   "outputs": [
    {
     "data": {
      "image/png": "[encoded data removed]",
      "text/plain": [
       "<Figure size 432x288 with 1 Axes>"
      ]
     },
     "metadata": {
      "needs_background": "light"
     },
     "output_type": "display_data"
    },
    {
     "data": {
      "text/plain": [
       "<AxesSubplot:xlabel='Samples', ylabel='Counts'>"
      ]
     },
     "execution_count": 21,
     "metadata": {},
     "output_type": "execute_result"
    }
   ],
   "source": [
    "fdist1.plot(10)"
   ]
  },
  {
   "cell_type": "code",
   "execution_count": 24,
   "id": "fc124ae7",
   "metadata": {},
   "outputs": [
    {
     "name": "stdout",
     "output_type": "stream",
     "text": [
      "['i', 'me', 'my', 'myself', 'we', 'our', 'ours', 'ourselves', 'you', \"you're\", \"you've\", \"you'll\", \"you'd\", 'your', 'yours', 'yourself', 'yourselves', 'he', 'him', 'his', 'himself', 'she', \"she's\", 'her', 'hers', 'herself', 'it', \"it's\", 'its', 'itself', 'they', 'them', 'their', 'theirs', 'themselves', 'what', 'which', 'who', 'whom', 'this', 'that', \"that'll\", 'these', 'those', 'am', 'is', 'are', 'was', 'were', 'be', 'been', 'being', 'have', 'has', 'had', 'having', 'do', 'does', 'did', 'doing', 'a', 'an', 'the', 'and', 'but', 'if', 'or', 'because', 'as', 'until', 'while', 'of', 'at', 'by', 'for', 'with', 'about', 'against', 'between', 'into', 'through', 'during', 'before', 'after', 'above', 'below', 'to', 'from', 'up', 'down', 'in', 'out', 'on', 'off', 'over', 'under', 'again', 'further', 'then', 'once', 'here', 'there', 'when', 'where', 'why', 'how', 'all', 'any', 'both', 'each', 'few', 'more', 'most', 'other', 'some', 'such', 'no', 'nor', 'not', 'only', 'own', 'same', 'so', 'than', 'too', 'very', 's', 't', 'can', 'will', 'just', 'don', \"don't\", 'should', \"should've\", 'now', 'd', 'll', 'm', 'o', 're', 've', 'y', 'ain', 'aren', \"aren't\", 'couldn', \"couldn't\", 'didn', \"didn't\", 'doesn', \"doesn't\", 'hadn', \"hadn't\", 'hasn', \"hasn't\", 'haven', \"haven't\", 'isn', \"isn't\", 'ma', 'mightn', \"mightn't\", 'mustn', \"mustn't\", 'needn', \"needn't\", 'shan', \"shan't\", 'shouldn', \"shouldn't\", 'wasn', \"wasn't\", 'weren', \"weren't\", 'won', \"won't\", 'wouldn', \"wouldn't\"]\n"
     ]
    }
   ],
   "source": [
    "#list of stopwords\n",
    "\n",
    "from nltk.corpus import stopwords\n",
    "\n",
    "stopwords = stopwords.words(\"english\")\n",
    "\n",
    "print(stopwords)"
   ]
  },
  {
   "cell_type": "code",
   "execution_count": 25,
   "id": "ebb863b1",
   "metadata": {},
   "outputs": [
    {
     "name": "stdout",
     "output_type": "stream",
     "text": [
      "['october', 'blows', 'sung', 'away', 'demanded', 'captain', 'three', 'points', 'lee', 'bow', 'raise', 'wheel', 'steady', 'steady', 'ahoy', 'see', 'whale', 'ay', 'ay', 'sir', 'shoal', 'sperm', 'whales', 'blows', 'breaches', 'sing', 'sing', 'every', 'time', 'ay', 'ay', 'sir', 'blows', 'far', 'two', 'miles', 'thunder', 'lightning', 'near', 'call', 'ross', 'browne', 'etchings', 'whaling']\n",
      "\n",
      "\n",
      "44\n"
     ]
    }
   ],
   "source": [
    "#removing stopwords\n",
    "\n",
    "clean_words = []\n",
    "\n",
    "for w in word_no_punc:\n",
    "        if w not in stopwords:\n",
    "            clean_words.append(w)\n",
    "            \n",
    "print(clean_words)\n",
    "print(\"\\n\")\n",
    "print(len(clean_words))"
   ]
  },
  {
   "cell_type": "code",
   "execution_count": 28,
   "id": "6a2e4682",
   "metadata": {},
   "outputs": [
    {
     "name": "stdout",
     "output_type": "stream",
     "text": [
      "<FreqDist with 36 samples and 44 outcomes>\n"
     ]
    },
    {
     "data": {
      "text/plain": [
       "[('ay', 4),\n",
       " ('blows', 3),\n",
       " ('steady', 2),\n",
       " ('sir', 2),\n",
       " ('sing', 2),\n",
       " ('october', 1),\n",
       " ('sung', 1),\n",
       " ('away', 1),\n",
       " ('demanded', 1),\n",
       " ('captain', 1)]"
      ]
     },
     "execution_count": 28,
     "metadata": {},
     "output_type": "execute_result"
    }
   ],
   "source": [
    "fdist2 = FreqDist(clean_words)\n",
    "\n",
    "print(fdist2)\n",
    "\n",
    "fdist2.most_common(10)"
   ]
  },
  {
   "cell_type": "code",
   "execution_count": 29,
   "id": "802d6118",
   "metadata": {},
   "outputs": [
    {
     "data": {
      "image/png": "[encoded data removed]",
      "text/plain": [
       "<Figure size 432x288 with 1 Axes>"
      ]
     },
     "metadata": {
      "needs_background": "light"
     },
     "output_type": "display_data"
    },
    {
     "data": {
      "text/plain": [
       "<AxesSubplot:xlabel='Samples', ylabel='Counts'>"
      ]
     },
     "execution_count": 29,
     "metadata": {},
     "output_type": "execute_result"
    }
   ],
   "source": [
    "fdist2.plot(10)"
   ]
  },
  {
   "cell_type": "code",
   "execution_count": 31,
   "id": "19307e83",
   "metadata": {
    "scrolled": true
   },
   "outputs": [],
   "source": [
    "#!pip install wordcloud"
   ]
  },
  {
   "cell_type": "code",
   "execution_count": 35,
   "id": "718d1cba",
   "metadata": {},
   "outputs": [
    {
     "data": {
      "image/png": "[encoded data removed]",
      "text/plain": [
       "<Figure size 864x864 with 1 Axes>"
      ]
     },
     "metadata": {
      "needs_background": "light"
     },
     "output_type": "display_data"
    }
   ],
   "source": [
    "#word_cloud\n",
    "\n",
    "from wordcloud import WordCloud\n",
    "import numpy as np\n",
    "\n",
    "\n",
    "wordcloud = WordCloud().generate(text)\n",
    "\n",
    "plt.figure(figsize=(12,12))\n",
    "plt.imshow(wordcloud)\n",
    "\n",
    "plt.axis(\"off\")\n",
    "plt.show()"
   ]
  },
  {
   "cell_type": "code",
   "execution_count": 48,
   "id": "2f76a57c",
   "metadata": {
    "scrolled": true
   },
   "outputs": [
    {
     "data": {
      "image/png": "[encoded data removed]",
      "text/plain": [
       "<Figure size 576x576 with 1 Axes>"
      ]
     },
     "metadata": {
      "needs_background": "light"
     },
     "output_type": "display_data"
    }
   ],
   "source": [
    "#use a circle image as mask\n",
    "\n",
    "from wordcloud import WordCloud\n",
    "import numpy as np\n",
    "from PIL import Image\n",
    "\n",
    "char_mask = np.array(Image.open(\"i2.png\"))\n",
    "\n",
    "\n",
    "wordcloud = WordCloud(max_font_size=50, max_words=100,background_color=\"black\",mask = char_mask).generate(text)\n",
    "\n",
    "\n",
    "plt.figure(figsize=(8,8))\n",
    "plt.imshow(wordcloud)\n",
    "\n",
    "plt.axis(\"off\")\n",
    "plt.show()"
   ]
  },
  {
   "cell_type": "code",
   "execution_count": null,
   "id": "892b5df9",
   "metadata": {},
   "outputs": [],
   "source": []
  },
  {
   "cell_type": "code",
   "execution_count": 49,
   "id": "e8c64e16",
   "metadata": {},
   "outputs": [
    {
     "name": "stdout",
     "output_type": "stream",
     "text": [
      "studi\n",
      "studi\n",
      "studi\n",
      "studi\n"
     ]
    }
   ],
   "source": [
    "#Stemming \n",
    "#porter stemmer ex1\n",
    "\n",
    "from nltk.stem import PorterStemmer\n",
    "\n",
    "porter = PorterStemmer()\n",
    "\n",
    "word_list = [\"study\",\"studying\",\"studies\",\"studied\"]\n",
    "\n",
    "for w in word_list:\n",
    "    print(porter.stem(w))"
   ]
  },
  {
   "cell_type": "code",
   "execution_count": 51,
   "id": "a4d38977",
   "metadata": {},
   "outputs": [
    {
     "name": "stdout",
     "output_type": "stream",
     "text": [
      "leav\n",
      "decreas\n",
      "studi\n",
      "play\n"
     ]
    }
   ],
   "source": [
    "#Stemming \n",
    "#porter stemmer ex2\n",
    "\n",
    "from nltk.stem import PorterStemmer\n",
    "\n",
    "porter = PorterStemmer()\n",
    "\n",
    "word_list1 = [\"leaves\",\"decreases\",\"studies\",\"plays\"]\n",
    "\n",
    "for w1 in word_list1:\n",
    "    print(porter.stem(w1))"
   ]
  },
  {
   "cell_type": "code",
   "execution_count": 52,
   "id": "3b2f1842",
   "metadata": {},
   "outputs": [
    {
     "name": "stdout",
     "output_type": "stream",
     "text": [
      "studi\n",
      "studi\n",
      "studi\n",
      "studi\n"
     ]
    }
   ],
   "source": [
    "#snowball stemmer \n",
    "\n",
    "from nltk.stem import SnowballStemmer\n",
    "\n",
    "snowball = SnowballStemmer(\"english\")\n",
    "\n",
    "for w in word_list:\n",
    "    print(snowball.stem(w))"
   ]
  },
  {
   "cell_type": "code",
   "execution_count": 53,
   "id": "d7f80363",
   "metadata": {},
   "outputs": [
    {
     "data": {
      "text/plain": [
       "('arabic',\n",
       " 'danish',\n",
       " 'dutch',\n",
       " 'english',\n",
       " 'finnish',\n",
       " 'french',\n",
       " 'german',\n",
       " 'hungarian',\n",
       " 'italian',\n",
       " 'norwegian',\n",
       " 'porter',\n",
       " 'portuguese',\n",
       " 'romanian',\n",
       " 'russian',\n",
       " 'spanish',\n",
       " 'swedish')"
      ]
     },
     "execution_count": 53,
     "metadata": {},
     "output_type": "execute_result"
    }
   ],
   "source": [
    "#languages support by snowball stemmer \n",
    "\n",
    "SnowballStemmer.languages"
   ]
  },
  {
   "cell_type": "code",
   "execution_count": null,
   "id": "0b7f697a",
   "metadata": {},
   "outputs": [],
   "source": []
  },
  {
   "cell_type": "code",
   "execution_count": 59,
   "id": "cb266937",
   "metadata": {},
   "outputs": [
    {
     "name": "stderr",
     "output_type": "stream",
     "text": [
      "[nltk_data] Downloading package omw-1.4 to /home/vamsi/nltk_data...\n",
      "[nltk_data]   Unzipping corpora/omw-1.4.zip.\n"
     ]
    },
    {
     "data": {
      "text/plain": [
       "True"
      ]
     },
     "execution_count": 59,
     "metadata": {},
     "output_type": "execute_result"
    }
   ],
   "source": [
    "#nltk.download('wordnet')\n",
    "#nltk.download('omw-1.4')"
   ]
  },
  {
   "cell_type": "code",
   "execution_count": 60,
   "id": "89876fb1",
   "metadata": {
    "scrolled": true
   },
   "outputs": [
    {
     "name": "stdout",
     "output_type": "stream",
     "text": [
      "study\n"
     ]
    }
   ],
   "source": [
    "#lemmatization\n",
    "\n",
    "from nltk.stem import WordNetLemmatizer\n",
    "\n",
    "lem = WordNetLemmatizer()\n",
    "\n",
    "print(lem.lemmatize('studies'))"
   ]
  },
  {
   "cell_type": "code",
   "execution_count": 62,
   "id": "0c141e72",
   "metadata": {},
   "outputs": [
    {
     "name": "stdout",
     "output_type": "stream",
     "text": [
      "study\n",
      "study\n",
      "study\n",
      "study\n"
     ]
    }
   ],
   "source": [
    "from nltk.stem  import WordNetLemmatizer\n",
    "\n",
    "lemma = WordNetLemmatizer()\n",
    "\n",
    "for w in word_list:\n",
    "    print(lemma.lemmatize(w,pos=\"v\"))"
   ]
  },
  {
   "cell_type": "code",
   "execution_count": 63,
   "id": "c9f6c6f1",
   "metadata": {},
   "outputs": [
    {
     "name": "stdout",
     "output_type": "stream",
     "text": [
      "leave\n",
      "decrease\n",
      "study\n",
      "play\n"
     ]
    }
   ],
   "source": [
    "from nltk.stem  import WordNetLemmatizer\n",
    "\n",
    "lemma = WordNetLemmatizer()\n",
    "\n",
    "for w in word_list1:\n",
    "    print(lemma.lemmatize(w,pos=\"v\"))"
   ]
  },
  {
   "cell_type": "code",
   "execution_count": 66,
   "id": "6bd1f721",
   "metadata": {},
   "outputs": [
    {
     "name": "stdout",
     "output_type": "stream",
     "text": [
      "be\n",
      "be\n",
      "be\n",
      "be\n",
      "be\n"
     ]
    }
   ],
   "source": [
    "\n",
    "\n",
    "from nltk.stem import WordNetLemmatizer\n",
    "\n",
    "lemma = WordNetLemmatizer()\n",
    "\n",
    "word_list1 = [\"am\",\"is\",\"are\",\"was\",\"were\"]\n",
    "\n",
    "for w in word_list1:\n",
    "    print(lemma.lemmatize(w,pos=\"v\"))"
   ]
  },
  {
   "cell_type": "code",
   "execution_count": 67,
   "id": "80a9e632",
   "metadata": {},
   "outputs": [
    {
     "name": "stdout",
     "output_type": "stream",
     "text": [
      "study\n",
      "studying\n",
      "studying\n",
      "studying\n"
     ]
    }
   ],
   "source": [
    "from nltk.stem import WordNetLemmatizer\n",
    "\n",
    "lemma = WordNetLemmatizer()\n",
    "\n",
    "print(lemma.lemmatize('studying',pos=\"v\"))\n",
    "print(lemma.lemmatize('studying',pos=\"r\"))\n",
    "print(lemma.lemmatize('studying',pos=\"a\"))\n",
    "print(lemma.lemmatize('studying',pos=\"n\"))"
   ]
  },
  {
   "cell_type": "code",
   "execution_count": null,
   "id": "edea618c",
   "metadata": {},
   "outputs": [],
   "source": []
  },
  {
   "cell_type": "code",
   "execution_count": 69,
   "id": "b79f6c4e",
   "metadata": {
    "scrolled": true
   },
   "outputs": [
    {
     "name": "stderr",
     "output_type": "stream",
     "text": [
      "[nltk_data] Downloading package averaged_perceptron_tagger to\n",
      "[nltk_data]     /home/vamsi/nltk_data...\n",
      "[nltk_data]   Unzipping taggers/averaged_perceptron_tagger.zip.\n"
     ]
    },
    {
     "data": {
      "text/plain": [
       "True"
      ]
     },
     "execution_count": 69,
     "metadata": {},
     "output_type": "execute_result"
    }
   ],
   "source": [
    "nltk.download('averaged_perceptron_tagger')"
   ]
  },
  {
   "cell_type": "code",
   "execution_count": 70,
   "id": "cda77793",
   "metadata": {
    "scrolled": true
   },
   "outputs": [
    {
     "name": "stdout",
     "output_type": "stream",
     "text": [
      "[('Studying', 'VBG'), ('study', 'NN')]\n"
     ]
    }
   ],
   "source": [
    "#POS Tagging\n",
    "\n",
    "tag = nltk.pos_tag([\"Studying\",\"study\"])\n",
    "print(tag)"
   ]
  },
  {
   "cell_type": "code",
   "execution_count": 73,
   "id": "7ce14d18",
   "metadata": {},
   "outputs": [
    {
     "data": {
      "text/plain": [
       "[('A', 'DT'),\n",
       " ('very', 'RB'),\n",
       " ('beautiful', 'JJ'),\n",
       " ('young', 'JJ'),\n",
       " ('lady', 'NN'),\n",
       " ('is', 'VBZ'),\n",
       " ('walking', 'VBG'),\n",
       " ('on', 'IN'),\n",
       " ('the', 'DT'),\n",
       " ('beach', 'NN')]"
      ]
     },
     "execution_count": 73,
     "metadata": {},
     "output_type": "execute_result"
    }
   ],
   "source": [
    "sentence = \"A very beautiful young lady is walking on the beach\"\n",
    "\n",
    "#tokenizing words \n",
    "\n",
    "tokenizedwords = word_tokenize(sentence)\n",
    "\n",
    "for words in tokenizedwords:\n",
    "    taggedwords = nltk.pos_tag(tokenizedwords)\n",
    "    \n",
    "taggedwords"
   ]
  },
  {
   "cell_type": "raw",
   "id": "b24dc2ee",
   "metadata": {},
   "source": [
    "#Chunking\n",
    "\n",
    "Sentences \n",
    "\n",
    "Clauses\n",
    "\n",
    "Phrases\n",
    "\n",
    "Words\n",
    "\n",
    "POS Tagging\n",
    "\n",
    "Chunking"
   ]
  },
  {
   "cell_type": "code",
   "execution_count": 74,
   "id": "2dabb355",
   "metadata": {},
   "outputs": [
    {
     "name": "stdout",
     "output_type": "stream",
     "text": [
      "(S\n",
      "  A/DT\n",
      "  very/RB\n",
      "  (NP beautiful/JJ young/JJ lady/NN)\n",
      "  is/VBZ\n",
      "  walking/VBG\n",
      "  on/IN\n",
      "  (NP the/DT beach/NN))\n"
     ]
    }
   ],
   "source": [
    "#Extract Noun phrase from text \n",
    "\n",
    "# ? - Optimal Character \n",
    "# * - 0 or more repetitions \n",
    "\n",
    "grammar = \"NP: {<DT>?<JJ>*<NN>}\"\n",
    "\n",
    "#creating a parser \n",
    "parser = nltk.RegexpParser(grammar)\n",
    "\n",
    "#parsing text \n",
    "output = parser.parse(taggedwords)\n",
    "print(output)\n",
    "\n",
    "output.draw()"
   ]
  },
  {
   "cell_type": "code",
   "execution_count": null,
   "id": "0089d3f3",
   "metadata": {},
   "outputs": [],
   "source": []
  },
  {
   "cell_type": "code",
   "execution_count": 83,
   "id": "d6e2555b",
   "metadata": {},
   "outputs": [
    {
     "name": "stderr",
     "output_type": "stream",
     "text": [
      "[nltk_data] Downloading package words to /home/vamsi/nltk_data...\n",
      "[nltk_data]   Unzipping corpora/words.zip.\n"
     ]
    },
    {
     "data": {
      "text/plain": [
       "True"
      ]
     },
     "execution_count": 83,
     "metadata": {},
     "output_type": "execute_result"
    }
   ],
   "source": [
    "#nltk.download('maxent_ne_chunker')\n",
    "nltk.download('words')"
   ]
  },
  {
   "cell_type": "code",
   "execution_count": 84,
   "id": "fcb1579d",
   "metadata": {},
   "outputs": [
    {
     "name": "stdout",
     "output_type": "stream",
     "text": [
      "[('Mr.Vamsi', 'NNP'), ('made', 'VBD'), ('a', 'DT'), ('deal', 'NN'), ('on', 'IN'), ('a', 'DT'), ('beach', 'NN'), ('of', 'IN'), ('Switzerland', 'NNP'), ('near', 'IN'), ('WHO', 'NNP'), ('.', '.')]\n",
      "(S\n",
      "  (NE Mr.Vamsi/NNP)\n",
      "  made/VBD\n",
      "  a/DT\n",
      "  deal/NN\n",
      "  on/IN\n",
      "  a/DT\n",
      "  beach/NN\n",
      "  of/IN\n",
      "  (NE Switzerland/NNP)\n",
      "  near/IN\n",
      "  (NE WHO/NNP)\n",
      "  ./.)\n"
     ]
    }
   ],
   "source": [
    "#Named Entity Recogntion\n",
    "\n",
    "sentence1 = \"Mr.Vamsi made a deal on a beach of Switzerland near WHO.\"\n",
    "\n",
    "#tokenized words \n",
    "tokenize_words = word_tokenize(sentence1)\n",
    "\n",
    "#POS Tagging \n",
    "for w in tokenize_words:\n",
    "    taggedwords = nltk.pos_tag(tokenize_words)\n",
    "    \n",
    "print(taggedwords)\n",
    "\n",
    "#NER\n",
    "N_E_R = nltk.ne_chunk(taggedwords,binary=True)\n",
    "\n",
    "print(N_E_R)\n",
    "\n",
    "#to visualize \n",
    "N_E_R.draw()"
   ]
  },
  {
   "cell_type": "code",
   "execution_count": 85,
   "id": "8d164c71",
   "metadata": {},
   "outputs": [
    {
     "name": "stdout",
     "output_type": "stream",
     "text": [
      "[('Mr.Vamsi', 'NNP'), ('made', 'VBD'), ('a', 'DT'), ('deal', 'NN'), ('on', 'IN'), ('a', 'DT'), ('beach', 'NN'), ('of', 'IN'), ('Switzerland', 'NNP'), ('near', 'IN'), ('WHO', 'NNP'), ('.', '.')]\n",
      "(S\n",
      "  Mr.Vamsi/NNP\n",
      "  made/VBD\n",
      "  a/DT\n",
      "  deal/NN\n",
      "  on/IN\n",
      "  a/DT\n",
      "  beach/NN\n",
      "  of/IN\n",
      "  (GPE Switzerland/NNP)\n",
      "  near/IN\n",
      "  (ORGANIZATION WHO/NNP)\n",
      "  ./.)\n"
     ]
    }
   ],
   "source": [
    "#Named Entity Recogntion\n",
    "\n",
    "sentence1 = \"Mr.Vamsi made a deal on a beach of Switzerland near WHO.\"\n",
    "\n",
    "#tokenized words \n",
    "tokenize_words = word_tokenize(sentence1)\n",
    "\n",
    "#POS Tagging \n",
    "for w in tokenize_words:\n",
    "    taggedwords = nltk.pos_tag(tokenize_words)\n",
    "    \n",
    "print(taggedwords)\n",
    "\n",
    "#NER\n",
    "N_E_R = nltk.ne_chunk(taggedwords,binary=False)\n",
    "\n",
    "print(N_E_R)\n",
    "\n",
    "#to visualize \n",
    "N_E_R.draw()"
   ]
  },
  {
   "cell_type": "code",
   "execution_count": 86,
   "id": "196ea07a",
   "metadata": {},
   "outputs": [
    {
     "name": "stdout",
     "output_type": "stream",
     "text": [
      "Synset('fun.n.01')\n",
      "Synset('fun.n.02')\n",
      "Synset('fun.n.03')\n",
      "Synset('playfulness.n.02')\n"
     ]
    }
   ],
   "source": [
    "#Wordnet\n",
    "\n",
    "from nltk.corpus import wordnet\n",
    "\n",
    "for words1 in wordnet.synsets(\"Fun\"):\n",
    "    print(words1)"
   ]
  },
  {
   "cell_type": "code",
   "execution_count": 87,
   "id": "fb983c6e",
   "metadata": {},
   "outputs": [
    {
     "name": "stdout",
     "output_type": "stream",
     "text": [
      "Lemma('fun.n.01.fun')\n",
      "Lemma('fun.n.01.merriment')\n",
      "Lemma('fun.n.01.playfulness')\n",
      "\n",
      "\n",
      "Lemma('fun.n.02.fun')\n",
      "Lemma('fun.n.02.play')\n",
      "Lemma('fun.n.02.sport')\n",
      "\n",
      "\n",
      "Lemma('fun.n.03.fun')\n",
      "\n",
      "\n",
      "Lemma('playfulness.n.02.playfulness')\n",
      "Lemma('playfulness.n.02.fun')\n",
      "\n",
      "\n"
     ]
    }
   ],
   "source": [
    "for words in wordnet.synsets(\"Fun\"):\n",
    "    for lemma in words.lemmas():\n",
    "        print(lemma)\n",
    "    print(\"\\n\")"
   ]
  },
  {
   "cell_type": "code",
   "execution_count": 88,
   "id": "35899d8b",
   "metadata": {},
   "outputs": [
    {
     "name": "stdout",
     "output_type": "stream",
     "text": [
      "play.n.01\n",
      "a dramatic work intended for performance by actors on a stage\n",
      "['he wrote several plays but only one was produced on Broadway']\n"
     ]
    }
   ],
   "source": [
    "word = wordnet.synsets(\"Play\")[0]\n",
    "\n",
    "#checkingname\n",
    "print(word.name())\n",
    "\n",
    "#checking definiton\n",
    "print(word.definition())\n",
    "\n",
    "#checking examples\n",
    "print(word.examples())"
   ]
  },
  {
   "cell_type": "code",
   "execution_count": 89,
   "id": "f6befa9d",
   "metadata": {},
   "outputs": [
    {
     "name": "stdout",
     "output_type": "stream",
     "text": [
      "fun.n.01\n",
      "a dramatic work intended for performance by actors on a stage\n",
      "['he wrote several plays but only one was produced on Broadway']\n",
      "Lemma('fun.n.01.fun')\n",
      "Lemma('fun.n.01.merriment')\n",
      "Lemma('fun.n.01.playfulness')\n",
      "\n",
      "\n",
      "fun.n.02\n",
      "a dramatic work intended for performance by actors on a stage\n",
      "['he wrote several plays but only one was produced on Broadway']\n",
      "Lemma('fun.n.02.fun')\n",
      "Lemma('fun.n.02.play')\n",
      "Lemma('fun.n.02.sport')\n",
      "\n",
      "\n",
      "fun.n.03\n",
      "a dramatic work intended for performance by actors on a stage\n",
      "['he wrote several plays but only one was produced on Broadway']\n",
      "Lemma('fun.n.03.fun')\n",
      "\n",
      "\n",
      "playfulness.n.02\n",
      "a dramatic work intended for performance by actors on a stage\n",
      "['he wrote several plays but only one was produced on Broadway']\n",
      "Lemma('playfulness.n.02.playfulness')\n",
      "Lemma('playfulness.n.02.fun')\n",
      "\n",
      "\n"
     ]
    }
   ],
   "source": [
    "for words in wordnet.synsets(\"Fun\"):\n",
    "    print(words.name())\n",
    "    print(word.definition())\n",
    "    print(word.examples())\n",
    "    \n",
    "    for lemma in words.lemmas():\n",
    "        print(lemma)\n",
    "    print(\"\\n\")"
   ]
  },
  {
   "cell_type": "code",
   "execution_count": 90,
   "id": "e3db8eab",
   "metadata": {},
   "outputs": [
    {
     "name": "stdout",
     "output_type": "stream",
     "text": [
      "[Synset('dramatic_composition.n.01')]\n"
     ]
    }
   ],
   "source": [
    "word = wordnet.synsets(\"Play\")[0]\n",
    "\n",
    "#find more abstract term:\n",
    "print(word.hypernyms())"
   ]
  },
  {
   "cell_type": "code",
   "execution_count": 91,
   "id": "2b87f68d",
   "metadata": {},
   "outputs": [
    {
     "data": {
      "text/plain": [
       "[Synset('grand_guignol.n.01'),\n",
       " Synset('miracle_play.n.01'),\n",
       " Synset('morality_play.n.01'),\n",
       " Synset('mystery_play.n.01'),\n",
       " Synset('passion_play.n.01'),\n",
       " Synset('playlet.n.01'),\n",
       " Synset('satyr_play.n.01'),\n",
       " Synset('theater_of_the_absurd.n.01')]"
      ]
     },
     "execution_count": 91,
     "metadata": {},
     "output_type": "execute_result"
    }
   ],
   "source": [
    "word.hyponyms()"
   ]
  },
  {
   "cell_type": "code",
   "execution_count": 92,
   "id": "3811e21b",
   "metadata": {},
   "outputs": [
    {
     "name": "stdout",
     "output_type": "stream",
     "text": [
      "play\n"
     ]
    }
   ],
   "source": [
    "#get a name only \n",
    "word = wordnet.synsets(\"play\")[0]\n",
    "\n",
    "#get only a name \n",
    "print(word.lemmas()[0].name())"
   ]
  },
  {
   "cell_type": "code",
   "execution_count": 95,
   "id": "255f5c2a",
   "metadata": {},
   "outputs": [
    {
     "data": {
      "text/plain": [
       "['play',\n",
       " 'drama',\n",
       " 'dramatic_play',\n",
       " 'play',\n",
       " 'drama',\n",
       " 'dramatic_play',\n",
       " 'play',\n",
       " 'drama',\n",
       " 'dramatic_play',\n",
       " 'play',\n",
       " 'drama',\n",
       " 'dramatic_play']"
      ]
     },
     "execution_count": 95,
     "metadata": {},
     "output_type": "execute_result"
    }
   ],
   "source": [
    "#empty lists to store synonyms \n",
    "\n",
    "synonyms = []\n",
    "\n",
    "for words in wordnet.synsets('Fun'):\n",
    "    for lemma in word.lemmas():\n",
    "        synonyms.append(lemma.name())\n",
    "        \n",
    "synonyms"
   ]
  },
  {
   "cell_type": "code",
   "execution_count": 99,
   "id": "6ef441a1",
   "metadata": {},
   "outputs": [
    {
     "data": {
      "text/plain": [
       "['unnatural', 'artificial', 'supernatural', 'sharp']"
      ]
     },
     "execution_count": 99,
     "metadata": {},
     "output_type": "execute_result"
    }
   ],
   "source": [
    "#finding antonyms \n",
    "antonyms = []\n",
    "\n",
    "for words in wordnet.synsets('Natural'):\n",
    "    for lemma in words.lemmas():\n",
    "        if lemma.antonyms():\n",
    "            antonyms.append(lemma.antonyms()[0].name())\n",
    "            \n",
    "antonyms"
   ]
  },
  {
   "cell_type": "code",
   "execution_count": 105,
   "id": "a0545996",
   "metadata": {},
   "outputs": [
    {
     "name": "stdout",
     "output_type": "stream",
     "text": [
      "['play', 'drama', 'dramatic_play', 'play', 'drama', 'dramatic_play', 'play', 'drama', 'dramatic_play', 'play', 'drama', 'dramatic_play', 'play', 'drama', 'dramatic_play', 'play', 'drama', 'dramatic_play', 'play', 'drama', 'dramatic_play', 'play', 'drama', 'dramatic_play', 'play', 'drama', 'dramatic_play', 'play', 'drama', 'dramatic_play', 'play', 'drama', 'dramatic_play', 'play', 'drama', 'dramatic_play']\n",
      "\n",
      "\n",
      "[]\n"
     ]
    }
   ],
   "source": [
    "synonyms = []\n",
    "antonyms = []\n",
    "\n",
    "\n",
    "for words in wordnet.synsets('new'):\n",
    "    for lemma in word.lemmas():\n",
    "        synonyms.append(lemma.name())\n",
    "        if lemma.antonyms():\n",
    "            antonyms.append(lemma.antonyms()[0].name())\n",
    "      \n",
    "    \n",
    "#print lists\n",
    "\n",
    "print(synonyms)\n",
    "print(\"\\n\")\n",
    "print(antonyms)"
   ]
  },
  {
   "cell_type": "code",
   "execution_count": 106,
   "id": "34e36848",
   "metadata": {},
   "outputs": [
    {
     "name": "stdout",
     "output_type": "stream",
     "text": [
      "0.9090909090909091\n"
     ]
    }
   ],
   "source": [
    "#Finding similarities \n",
    "\n",
    "w1 = wordnet.synsets(\"ship\",\"n\")[0]\n",
    "\n",
    "w2 = wordnet.synsets(\"boat\",\"n\")[0]\n",
    "\n",
    "print(w1.wup_similarity(w2))"
   ]
  },
  {
   "cell_type": "code",
   "execution_count": 107,
   "id": "89493ff2",
   "metadata": {},
   "outputs": [
    {
     "name": "stdout",
     "output_type": "stream",
     "text": [
      "0.6956521739130435\n"
     ]
    }
   ],
   "source": [
    "#Finding similarities \n",
    "\n",
    "w1 = wordnet.synsets(\"ship\",\"n\")[0]\n",
    "\n",
    "w2 = wordnet.synsets(\"bike\",\"n\")[0]\n",
    "\n",
    "print(w1.wup_similarity(w2))"
   ]
  },
  {
   "cell_type": "code",
   "execution_count": 110,
   "id": "9f75b7b1",
   "metadata": {},
   "outputs": [
    {
     "name": "stdout",
     "output_type": "stream",
     "text": [
      "0.6956521739130435\n"
     ]
    }
   ],
   "source": [
    "#Finding similarities \n",
    "\n",
    "w1 = wordnet.synsets(\"car\",\"n\")[0]\n",
    "\n",
    "w2 = wordnet.synsets(\"boat\",\"n\")[0]\n",
    "\n",
    "print(w1.wup_similarity(w2))"
   ]
  },
  {
   "cell_type": "code",
   "execution_count": null,
   "id": "6099536e",
   "metadata": {},
   "outputs": [],
   "source": []
  },
  {
   "cell_type": "raw",
   "id": "d3075718",
   "metadata": {},
   "source": [
    "#BAG OF WORDS\n",
    "\n",
    "RAW TEXT \n",
    "CLEAN TEXT\n",
    "TOKENIZE\n",
    "BUILD VOCAB\n",
    "GENERATE VECTORS"
   ]
  },
  {
   "cell_type": "code",
   "execution_count": 113,
   "id": "9d904f40",
   "metadata": {},
   "outputs": [
    {
     "name": "stdout",
     "output_type": "stream",
     "text": [
      "{'vamsi': 13, 'and': 0, 'rohit': 9, 'are': 1, 'travelling': 12, 'by': 3, 'the': 10, 'bus': 2, 'train': 11, 'was': 14, 'late': 8, 'flight': 5, 'full': 6, 'is': 7, 'expensive': 4}\n",
      "\n",
      "\n",
      "['and', 'are', 'bus', 'by', 'expensive', 'flight', 'full', 'is', 'late', 'rohit', 'the', 'train', 'travelling', 'vamsi', 'was']\n",
      "\n",
      "\n",
      "[[1 1 1 1 0 0 0 0 0 1 1 0 1 1 0]\n",
      " [0 0 0 0 0 0 0 0 1 0 1 1 0 0 1]\n",
      " [0 0 0 1 1 2 1 1 0 0 1 0 1 0 1]]\n"
     ]
    }
   ],
   "source": [
    "from sklearn.feature_extraction.text import CountVectorizer\n",
    "import warnings\n",
    "#warnings.simplefilter(action='ignore', category=FutureWarning)\n",
    "\n",
    "\n",
    "sentences1 = [\"Vamsi and Rohit are travelling by the bus\",\n",
    "             \"The train was late\",\n",
    "             \"The flight was full.Travelling by flight is expensive\"]\n",
    "\n",
    "cv = CountVectorizer()\n",
    "\n",
    "Bow = cv.fit_transform(sentences1).toarray()\n",
    "\n",
    "#total words with their index in model\n",
    "print(cv.vocabulary_)\n",
    "print(\"\\n\")\n",
    "\n",
    "#Features\n",
    "print(cv.get_feature_names())\n",
    "print(\"\\n\")\n",
    "\n",
    "#output\n",
    "print(Bow)\n"
   ]
  },
  {
   "cell_type": "code",
   "execution_count": null,
   "id": "83352b5c",
   "metadata": {},
   "outputs": [],
   "source": []
  },
  {
   "cell_type": "markdown",
   "id": "47073813",
   "metadata": {},
   "source": [
    "# TFIDF"
   ]
  },
  {
   "cell_type": "code",
   "execution_count": 114,
   "id": "526d5097",
   "metadata": {},
   "outputs": [
    {
     "name": "stdout",
     "output_type": "stream",
     "text": [
      "{'this': 5, 'is': 2, 'the': 4, 'first': 1, 'document': 0, 'second': 3}\n",
      "\n",
      "\n",
      "['document', 'first', 'is', 'second', 'the', 'this']\n",
      "\n",
      "\n",
      "[[1.         1.40546511 1.         0.         1.         1.        ]\n",
      " [1.         0.         1.         1.40546511 1.         1.        ]]\n"
     ]
    }
   ],
   "source": [
    "from sklearn.feature_extraction.text import TfidfVectorizer\n",
    "\n",
    "sentences2 = ['This is the first document','This document is the second']\n",
    "\n",
    "#creating object\n",
    "vectorizer = TfidfVectorizer(norm=None)\n",
    "\n",
    "#generating output for tf_idf\n",
    "x = vectorizer.fit_transform(sentences2).toarray()\n",
    "\n",
    "#total words with their index\n",
    "print(vectorizer.vocabulary_)\n",
    "print(\"\\n\")\n",
    "\n",
    "#features\n",
    "print(vectorizer.get_feature_names())\n",
    "print(\"\\n\")\n",
    "\n",
    "#output\n",
    "print(x)"
   ]
  },
  {
   "cell_type": "code",
   "execution_count": null,
   "id": "9805247c",
   "metadata": {},
   "outputs": [],
   "source": []
  }
 ],
 "metadata": {
  "kernelspec": {
   "display_name": "Python 3 (ipykernel)",
   "language": "python",
   "name": "python3"
  },
  "language_info": {
   "codemirror_mode": {
    "name": "ipython",
    "version": 3
   },
   "file_extension": ".py",
   "mimetype": "text/x-python",
   "name": "python",
   "nbconvert_exporter": "python",
   "pygments_lexer": "ipython3",
   "version": "3.9.12"
  }
 },
 "nbformat": 4,
 "nbformat_minor": 5
}
